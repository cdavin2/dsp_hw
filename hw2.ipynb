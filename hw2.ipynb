{
  "nbformat": 4,
  "nbformat_minor": 0,
  "metadata": {
    "colab": {
      "provenance": [],
      "authorship_tag": "ABX9TyNaY41JoFR+FgT2AIRU50ih",
      "include_colab_link": true
    },
    "kernelspec": {
      "name": "python3",
      "display_name": "Python 3"
    },
    "language_info": {
      "name": "python"
    }
  },
  "cells": [
    {
      "cell_type": "markdown",
      "metadata": {
        "id": "view-in-github",
        "colab_type": "text"
      },
      "source": [
        "<a href=\"https://colab.research.google.com/github/cdavin2/dsp_hw/blob/main/hw2.ipynb\" target=\"_parent\"><img src=\"https://colab.research.google.com/assets/colab-badge.svg\" alt=\"Open In Colab\"/></a>"
      ]
    },
    {
      "cell_type": "code",
      "execution_count": 2,
      "metadata": {
        "id": "ekFfDCyUaad0"
      },
      "outputs": [],
      "source": [
        "import numpy as np\n",
        "import matplotlib.pyplot as plt\n",
        "import IPython.display as ipd\n",
        "\n",
        "# make sure the plot is displayed in this notebook\n",
        "%matplotlib inline\n",
        "# specify the size of the plot\n",
        "plt.rcParams['figure.figsize'] = (16, 6)\n",
        "\n",
        "# for auto-reloading extenrnal modules\n",
        "%load_ext autoreload\n",
        "%autoreload 2 "
      ]
    },
    {
      "cell_type": "code",
      "source": [
        "t = np.linspace(0, .003, 301)\n",
        "xt31 = np.cos(2*np.pi*1000*t)\n",
        "xt32 = np.cos(2*np.pi*3000*t)\n",
        "\n",
        "# plt.plot(t, xt31)\n",
        "# plt.plot(t, xt32)\n",
        "# plt.show()\n",
        "\n",
        "n = np.linspace(0, 12, 13)\n",
        "xn31 = np.cos(2*np.pi*1000*(n/4000))\n",
        "xn32 = np.cos(2*np.pi*3000*(n/4000))\n",
        "\n",
        "# plt.stem(n, xn31)\n",
        "# plt.stem(n, xn32)\n",
        "# plt.show()\n",
        "\n",
        "f = np.linspace(-4000, 4000, 8001)\n",
        "xf31 = .5 * ( (f == 1000).astype(float) + (f == -1000).astype(float) )\n",
        "xf32 = .5 * ( (f == 3000).astype(float) + (f == -3000).astype(float) )\n",
        "# plt.plot(f, xf31)\n",
        "# plt.plot(f, xf32)\n",
        "# plt.show()\n",
        "\n",
        "xfs31 = np.zeros(len(f))\n",
        "for k in range(10):\n",
        "  xfs31 += (.5 * ( ( f == (k/1000 + 1000)).astype(float) + ( f == (k/1000 - 1000)).astype(float) ) ) / 1000\n",
        "\n",
        "plt.plot(f, xfs31)\n",
        "plt.show()"
      ],
      "metadata": {
        "id": "3VAE06TQam5G",
        "outputId": "8c19bba1-db1a-4d97-cf59-0af43cd1f92b",
        "colab": {
          "base_uri": "https://localhost:8080/",
          "height": 374
        }
      },
      "execution_count": 65,
      "outputs": [
        {
          "output_type": "display_data",
          "data": {
            "text/plain": [
              "<Figure size 1152x432 with 1 Axes>"
            ],
            "image/png": "[encoded data removed]"
          },
          "metadata": {
            "needs_background": "light"
          }
        }
      ]
    }
  ]
}